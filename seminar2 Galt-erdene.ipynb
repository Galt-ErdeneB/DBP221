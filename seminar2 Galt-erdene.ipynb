{
 "cells": [
  {
   "cell_type": "code",
   "execution_count": 1,
   "id": "5480bf67",
   "metadata": {},
   "outputs": [
    {
     "name": "stdout",
     "output_type": "stream",
     "text": [
      "Yes\n"
     ]
    }
   ],
   "source": [
    "#1\n",
    "def ispalindrome (s):\n",
    "    return s == s[::-1]\n",
    "s = \"gezeg\"\n",
    "ans = ispalindrome (s)\n",
    "if ans:\n",
    "    print(\"Yes\")\n",
    "else:\n",
    "    print(\"No\")"
   ]
  },
  {
   "cell_type": "code",
   "execution_count": 2,
   "id": "1633f7a9",
   "metadata": {},
   "outputs": [
    {
     "name": "stdout",
     "output_type": "stream",
     "text": [
      "(9, 32)\n"
     ]
    }
   ],
   "source": [
    "#2\n",
    "def counting(x):\n",
    "    upper = 0\n",
    "    lower = 0\n",
    "    for i in x:\n",
    "        for y in i:\n",
    "            k = y.isupper()\n",
    "            if k == True:\n",
    "                upper = upper + 1\n",
    "            else:\n",
    "                lower = lower + 1\n",
    "    return(upper, lower)\n",
    "data = 'Өнөөдөр 3Дахь ӨдӨр. ГаДАА Дулаахан байна.'\n",
    "print(counting(data))"
   ]
  },
  {
   "cell_type": "code",
   "execution_count": 3,
   "id": "1836c0a2",
   "metadata": {},
   "outputs": [
    {
     "name": "stdout",
     "output_type": "stream",
     "text": [
      "1633500\n"
     ]
    }
   ],
   "source": [
    "#3\n",
    "list = [1, 11, 30, 55, 9, 10]\n",
    "def multiplylist(list):\n",
    "    result = 1\n",
    "    for x in list:\n",
    "        result = result * x\n",
    "    return result\n",
    "print(multiplylist(list))"
   ]
  },
  {
   "cell_type": "code",
   "execution_count": 4,
   "id": "7da042a5",
   "metadata": {},
   "outputs": [
    {
     "name": "stdout",
     "output_type": "stream",
     "text": [
      "1307674368000\n"
     ]
    }
   ],
   "source": [
    "#4\n",
    "def bacterial(x):\n",
    "    total = 1\n",
    "    for i in range(x):\n",
    "        i = i + 1\n",
    "        total = total * i\n",
    "    return total\n",
    "print(bacterial(15))"
   ]
  },
  {
   "cell_type": "code",
   "execution_count": 8,
   "id": "eb710f1d",
   "metadata": {},
   "outputs": [
    {
     "name": "stdout",
     "output_type": "stream",
     "text": [
      "[2, 121, 75, 66, 15]\n"
     ]
    }
   ],
   "source": [
    "#5\n",
    "list = [ 15, 66, 75, 121, 2]\n",
    "def reverse(list):\n",
    "    return [ele for ele in reversed(list)]\n",
    "print(reverse(list))"
   ]
  },
  {
   "cell_type": "code",
   "execution_count": 5,
   "id": "88408f83",
   "metadata": {},
   "outputs": [
    {
     "name": "stdout",
     "output_type": "stream",
     "text": [
      "279\n"
     ]
    }
   ],
   "source": [
    "#6\n",
    "list = [ 15, 66, 75, 121, 2]\n",
    "def sumoflist(list, size):\n",
    "    if (size == 0):\n",
    "        return 0\n",
    "    else:\n",
    "        return list[size - 1] + sumoflist(list, size - 1)\n",
    "total = sumoflist(list, len(list))\n",
    "print(total) "
   ]
  },
  {
   "cell_type": "code",
   "execution_count": 6,
   "id": "92d1fcaa",
   "metadata": {},
   "outputs": [
    {
     "name": "stdout",
     "output_type": "stream",
     "text": [
      "[1, 36, 55, 29, 121]\n"
     ]
    }
   ],
   "source": [
    "#7\n",
    "list = [1, 36, 55, 1, 29, 36, 121, 121]\n",
    "res = []\n",
    "for i in list:\n",
    "    if i not in res:\n",
    "        res.append(i)\n",
    "print(str(res))"
   ]
  },
  {
   "cell_type": "code",
   "execution_count": 7,
   "id": "c86cbf85",
   "metadata": {},
   "outputs": [
    {
     "name": "stdout",
     "output_type": "stream",
     "text": [
      "100\n"
     ]
    }
   ],
   "source": [
    "#8\n",
    "def max_fun(a, b, c):\n",
    "    return max(a, b, c)\n",
    "print(max_fun(100, 7, 36))"
   ]
  },
  {
   "cell_type": "code",
   "execution_count": null,
   "id": "cd3ca8da",
   "metadata": {},
   "outputs": [],
   "source": []
  }
 ],
 "metadata": {
  "kernelspec": {
   "display_name": "Python 3 (ipykernel)",
   "language": "python",
   "name": "python3"
  },
  "language_info": {
   "codemirror_mode": {
    "name": "ipython",
    "version": 3
   },
   "file_extension": ".py",
   "mimetype": "text/x-python",
   "name": "python",
   "nbconvert_exporter": "python",
   "pygments_lexer": "ipython3",
   "version": "3.9.7"
  }
 },
 "nbformat": 4,
 "nbformat_minor": 5
}
