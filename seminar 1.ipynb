{
 "cells": [
  {
   "cell_type": "code",
   "execution_count": null,
   "id": "30f06384",
   "metadata": {},
   "outputs": [],
   "source": [
    "#1\n",
    "ppj = ['python', 'php', 'java']\n",
    "print(ppj[0])\n",
    "print(ppj[1])\n",
    "print(ppj[2])\n",
    "print(ppj[-3])\n",
    "print(ppj[-2])\n",
    "print(ppj[-1])"
   ]
  },
  {
   "cell_type": "code",
   "execution_count": null,
   "id": "9e535b1d",
   "metadata": {},
   "outputs": [],
   "source": [
    "#2\n",
    "numbers = [55, 5, 21, 6, 15, 8, 19, 29, 30, 42]\n",
    "sum = 0\n",
    "for i in numbers:\n",
    "    sum = sum + i\n",
    "print(sum)"
   ]
  },
  {
   "cell_type": "code",
   "execution_count": null,
   "id": "f11a1efb",
   "metadata": {},
   "outputs": [],
   "source": [
    "#3\n",
    "numbers = [55, 5, 21, 6, 15]\n",
    "def multiplylist(numbers):\n",
    "    multiply = 1\n",
    "    for i in numbers:\n",
    "        multiply = multiply * i\n",
    "    return result\n",
    "print(multiplylist(numbers))"
   ]
  },
  {
   "cell_type": "code",
   "execution_count": null,
   "id": "84c75fb7",
   "metadata": {},
   "outputs": [],
   "source": [
    "#4\n",
    "numbers = [55, 5, 21, 6, 15]\n",
    "def f(numbers):\n",
    "    y = numbers[3] * numbers[-1]\n",
    "    return y\n",
    "f(numbers)"
   ]
  },
  {
   "cell_type": "code",
   "execution_count": null,
   "id": "bb9220c8",
   "metadata": {},
   "outputs": [],
   "source": [
    "#5\n",
    "numbers = [55, 5, 21, 6, 15]\n",
    "def XIXB(numbers):\n",
    "    numbers.sort()\n",
    "    a = numbers[0]\n",
    "    b = numbers[-1]\n",
    "    return (a, b)\n",
    "XIXB(numbers)"
   ]
  },
  {
   "cell_type": "code",
   "execution_count": null,
   "id": "86bc3d69",
   "metadata": {},
   "outputs": [],
   "source": [
    "#6\n",
    "def f(x):\n",
    "    y = 0\n",
    "    for i in x:\n",
    "        if len(i) > 1:\n",
    "            y = y + 1\n",
    "    print(y)\n",
    "x = ['abdba', 'abcd', '121']\n",
    "f(x)"
   ]
  },
  {
   "cell_type": "code",
   "execution_count": null,
   "id": "7fc265b5",
   "metadata": {},
   "outputs": [],
   "source": [
    "#7\n",
    "numbers = [55, 5, 21, 6, 15, 8, 19, 29, 30, 42, 42, 6]\n",
    "numbers.pop(-1)\n",
    "numbers.pop(-2)\n",
    "print(numbers)"
   ]
  },
  {
   "cell_type": "code",
   "execution_count": null,
   "id": "1b80d36b",
   "metadata": {},
   "outputs": [],
   "source": [
    "#8\n",
    "numbers = [55, 5, 21, 6, 15, 8, 19, 29, 30, 42]\n",
    "if 55 in numbers:\n",
    "    print('yes')"
   ]
  },
  {
   "cell_type": "code",
   "execution_count": null,
   "id": "1b500be1",
   "metadata": {},
   "outputs": [],
   "source": [
    "#9\n",
    "numbers = [55, 5, 21, 6, 15, 8, 19, 29, 30, 42]\n",
    "numbers.remove(6)\n",
    "numbers.remove(8)\n",
    "numbers.remove(29)\n",
    "print(numbers)"
   ]
  },
  {
   "cell_type": "code",
   "execution_count": null,
   "id": "58768f59",
   "metadata": {},
   "outputs": [],
   "source": [
    "#10\n",
    "numbers = (55, 5, 21, 6, 15, 8, 19, 29, 30, 42)"
   ]
  },
  {
   "cell_type": "code",
   "execution_count": null,
   "id": "384571fa",
   "metadata": {},
   "outputs": [],
   "source": [
    "#11\n",
    "numbers = (55, 5, 21, 6, 15, 8, 19, 29, 30, 42) \n",
    "print(numbers)\n",
    "numbers = numbers + (36,)\n",
    "print(numbers)"
   ]
  },
  {
   "cell_type": "code",
   "execution_count": null,
   "id": "603f6773",
   "metadata": {},
   "outputs": [],
   "source": [
    "#12\n",
    "numbers = (55, 5, 21, 6, 15, 8, 19, 29, 30, 42)\n",
    "print(numbers[1], numbers[-2])"
   ]
  },
  {
   "cell_type": "code",
   "execution_count": null,
   "id": "0bbde0a3",
   "metadata": {},
   "outputs": [],
   "source": [
    "#13 \n",
    "чадахгүй байна өө багшаа"
   ]
  },
  {
   "cell_type": "code",
   "execution_count": null,
   "id": "8595d6f8",
   "metadata": {},
   "outputs": [],
   "source": [
    "#14\n",
    "numbers = (55, 5, 21, 6, 15, 8, 19, 29, 30, 42)\n",
    "for i in numbers:\n",
    "    print(i)"
   ]
  },
  {
   "cell_type": "code",
   "execution_count": null,
   "id": "47937123",
   "metadata": {},
   "outputs": [],
   "source": [
    "#15\n",
    "colors = {'black', 'blue', 'orange'}\n",
    "rainbow = {'red', 'orange', 'yellow'}\n",
    "Newset = colors.union(rainbow)\n",
    "print(Newset)"
   ]
  },
  {
   "cell_type": "code",
   "execution_count": null,
   "id": "5a0fae77",
   "metadata": {},
   "outputs": [],
   "source": [
    "#16\n",
    "colors = {'black', 'blue', 'orange'}\n",
    "rainbow = {'red', 'orange', 'yellow'}\n",
    "intersection = colors.intersection(rainbow)\n",
    "print(intersection)"
   ]
  },
  {
   "cell_type": "code",
   "execution_count": null,
   "id": "fb14c784",
   "metadata": {},
   "outputs": [],
   "source": [
    "#17\n",
    "colors = {'orange', 'black', 'blue', 'red', 'yellow', 'yellow'}\n",
    "print(len(colors))"
   ]
  },
  {
   "cell_type": "code",
   "execution_count": null,
   "id": "4ea97ca1",
   "metadata": {},
   "outputs": [],
   "source": [
    "#18\n",
    "colors = {'orange', 'black', 'blue', 'red', 'yellow', 'yellow'}\n",
    "colors.remove('blue')\n",
    "print(colors)"
   ]
  },
  {
   "cell_type": "code",
   "execution_count": null,
   "id": "13bc9e09",
   "metadata": {},
   "outputs": [],
   "source": [
    "#19\n",
    "colors = {'orange', 'black', 'blue', 'red', 'yellow', 'yellow'}\n",
    "colors.clear()\n",
    "print(colors)"
   ]
  },
  {
   "cell_type": "code",
   "execution_count": null,
   "id": "88b14af2",
   "metadata": {},
   "outputs": [],
   "source": [
    "#20\n",
    "colors = {'orange', 'black', 'blue', 'red', 'yellow', 'yellow'}\n",
    "colors.clear()\n",
    "print(colors)\n",
    "del fruits"
   ]
  },
  {
   "cell_type": "code",
   "execution_count": null,
   "id": "c2e5ed06",
   "metadata": {},
   "outputs": [],
   "source": [
    "#21\n",
    "dict1 = {\n",
    "    '1': '2',\n",
    "    '3': '6',\n",
    "    '7': '14'}\n",
    "print(dict1)   "
   ]
  },
  {
   "cell_type": "code",
   "execution_count": null,
   "id": "1a9ead37",
   "metadata": {},
   "outputs": [],
   "source": [
    "#22\n",
    "бас чадаагүй"
   ]
  },
  {
   "cell_type": "code",
   "execution_count": null,
   "id": "f082adfb",
   "metadata": {},
   "outputs": [],
   "source": [
    "#23\n",
    "дахиад чадаагүй"
   ]
  },
  {
   "cell_type": "code",
   "execution_count": null,
   "id": "af696651",
   "metadata": {},
   "outputs": [],
   "source": [
    "#24\n",
    "dict1 = {\n",
    "    '1': '2',\n",
    "    '3': '6',\n",
    "    '7': '14'}\n",
    "for i in dict1:\n",
    "    print(i)\n",
    "for i in dict1:\n",
    "    print(dict1[i])"
   ]
  },
  {
   "cell_type": "code",
   "execution_count": null,
   "id": "3d11336b",
   "metadata": {},
   "outputs": [],
   "source": [
    "#25\n",
    "тэгээд чадахгүй байна өө"
   ]
  },
  {
   "cell_type": "code",
   "execution_count": null,
   "id": "fb8bb655",
   "metadata": {},
   "outputs": [],
   "source": [
    "#26\n",
    "уучлаарай багшаа хийж чадаагүйд"
   ]
  }
 ],
 "metadata": {
  "kernelspec": {
   "display_name": "Python 3 (ipykernel)",
   "language": "python",
   "name": "python3"
  },
  "language_info": {
   "codemirror_mode": {
    "name": "ipython",
    "version": 3
   },
   "file_extension": ".py",
   "mimetype": "text/x-python",
   "name": "python",
   "nbconvert_exporter": "python",
   "pygments_lexer": "ipython3",
   "version": "3.9.7"
  }
 },
 "nbformat": 4,
 "nbformat_minor": 5
}
